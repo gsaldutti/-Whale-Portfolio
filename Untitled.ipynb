{
 "cells": [
  {
   "cell_type": "code",
   "execution_count": null,
   "id": "eb61cecd-1388-4601-a83f-192f61d651b1",
   "metadata": {},
   "outputs": [],
   "source": [
    "\n",
    "\n",
    "\n",
    "-  SOROS FUND MANAGEMENT LLC     | 0.356417 \n",
    "- |SOROS FUND MANAGEMENT LLC     | 0.125335 \n",
    "- |PAULSON & CO.INC.             | 0.111488 \n",
    "\n",
    "\n",
    "- SOROS FUND MANAGEMENT LLC |   0.125335 \n",
    "- PAULSON & CO.INC.         |   0.111488 \n",
    "- TIGER GLOBAL MANAGEMENT LLC | 0.172936\n",
    "- BERKSHIRE HATHAWAY INC      | 0.205077\n",
    "- Algo 1 |                      0.120967\n",
    "- Algo 2 |                      0.132430\n",
    "- S&P 500 |                     0.135786\n",
    "\n",
    "\n",
    "- SOROS FUND MANAGEMENT LLC |     0.356417\n",
    "- PAULSON & CO.INC. |            -0.483570\n",
    "- TIGER GLOBAL MANAGEMENT LLC |  -0.121060\n",
    "- BERKSHIRE HATHAWAY INC |        0.621810\n",
    "- Algo 1 |                        1.378648\n",
    "- Algo 2 |                        0.501364\n",
    "- S&P 500 |                       0.648267\n",
    "- AMX |                           2.422758\n",
    "- T |                             0.940000\n",
    "- VZ |                            0.893409\n",
    "\n",
    "\n",
    "- AMX (American Movil) | 2.422\n",
    "- Algo 1 | 1.378\n",
    "- T (AT&T) | .940\n",
    "- VZ (Verizon) | .8934\n"
   ]
  }
 ],
 "metadata": {
  "kernelspec": {
   "display_name": "Python 3 (ipykernel)",
   "language": "python",
   "name": "python3"
  },
  "language_info": {
   "codemirror_mode": {
    "name": "ipython",
    "version": 3
   },
   "file_extension": ".py",
   "mimetype": "text/x-python",
   "name": "python",
   "nbconvert_exporter": "python",
   "pygments_lexer": "ipython3",
   "version": "3.9.7"
  }
 },
 "nbformat": 4,
 "nbformat_minor": 5
}
